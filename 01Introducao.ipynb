{
 "cells": [
  {
   "cell_type": "markdown",
   "metadata": {},
   "source": [
    "## Introdução\n",
    "\n",
    "&nbsp;&nbsp;&nbsp;&nbsp;Neste trabalho, pretende-se revisitar tudo o que foi leccionado nas aulas, olhar para snippets de código, demonstrar como podem ser úteis. No fundo, mostrar que, apesar de não ser uma plataforma desenhada para o efeito, tanto o python como os notebooks podem ser usados não só para tratar, como para mostrar dados e até o desenho de alguns dashboards.\n",
    "Ao longo deste trabalho vou falar sobre tudo o que foi visto, voltar a dar exemplos de como usar as várias funções e por fim fazer uma pequena demonstração, usando bases de dados retiradas do Kaggle, de algumas das muitas funcionalidades que estas tecnologias nos disponibilizam.\n",
    "\n",
    "<div class=\"alert alert-block alert-info\">\n",
    "<p>ℹ️<b>Nota</b></p>\n",
    "   <p>\n",
    "Foi usado um enviroment do Python 3.11.5 para a execução deste trabalho e github como repositório para o projeto.\n",
    "</p>\n",
    "</div>"
   ]
  },
  {
   "cell_type": "code",
   "execution_count": null,
   "metadata": {},
   "outputs": [],
   "source": []
  },
  {
   "cell_type": "markdown",
   "metadata": {},
   "source": [
    "## 1º Mês\n",
    "\n",
    "&nbsp;&nbsp;&nbsp;Começou-se o primeiro vez revisitando os tipos de dados básicos do Python, operadores e operações entre eles. Falaram-se de operadores logicos, aritméticos e de comparação. Falou-se também de funções de entrada e saida e das várias estruturas de dados.\n",
    "\n",
    "### Operadores\n"
   ]
  },
  {
   "cell_type": "code",
   "execution_count": 2,
   "metadata": {},
   "outputs": [
    {
     "name": "stdout",
     "output_type": "stream",
     "text": [
      "Soma: 15\n",
      "Subtração: 5\n",
      "Multiplicação: 50\n",
      "Divisão: 2.0\n",
      "Divisão inteira: 2\n",
      "Módulo: 0\n",
      "Exponenciação: 100000\n",
      "Igual a: False\n",
      "Diferente de: True\n",
      "Maior que: True\n",
      "Menor que: False\n",
      "Maior ou igual a: True\n",
      "Menor ou igual a: False\n",
      "E lógico (and): False\n",
      "Ou lógico (or): True\n",
      "Negação lógica (not): False\n"
     ]
    }
   ],
   "source": [
    "# Operadores aritméticos\n",
    "a = 10\n",
    "b = 5\n",
    "\n",
    "# Soma\n",
    "soma = a + b  # 15\n",
    "print(f\"Soma: {soma}\")\n",
    "\n",
    "# Subtração\n",
    "subtracao = a - b  # 5\n",
    "print(f\"Subtração: {subtracao}\")\n",
    "\n",
    "# Multiplicação\n",
    "multiplicacao = a * b  # 50\n",
    "print(f\"Multiplicação: {multiplicacao}\")\n",
    "\n",
    "# Divisão\n",
    "divisao = a / b  # 2.0\n",
    "print(f\"Divisão: {divisao}\")\n",
    "\n",
    "# Divisão inteira\n",
    "divisao_inteira = a // b  # 2\n",
    "print(f\"Divisão inteira: {divisao_inteira}\")\n",
    "\n",
    "# Módulo\n",
    "modulo = a % b  # 0\n",
    "print(f\"Módulo: {modulo}\")\n",
    "\n",
    "# Exponenciação\n",
    "exponenciacao = a ** b  # 100000\n",
    "print(f\"Exponenciação: {exponenciacao}\")\n",
    "\n",
    "# Operadores de comparação\n",
    "# Igual a\n",
    "igual = (a == b)  # False\n",
    "print(f\"Igual a: {igual}\")\n",
    "\n",
    "# Diferente de\n",
    "diferente = (a != b)  # True\n",
    "print(f\"Diferente de: {diferente}\")\n",
    "\n",
    "# Maior que\n",
    "maior = (a > b)  # True\n",
    "print(f\"Maior que: {maior}\")\n",
    "\n",
    "# Menor que\n",
    "menor = (a < b)  # False\n",
    "print(f\"Menor que: {menor}\")\n",
    "\n",
    "# Maior ou igual a\n",
    "maior_igual = (a >= b)  # True\n",
    "print(f\"Maior ou igual a: {maior_igual}\")\n",
    "\n",
    "# Menor ou igual a\n",
    "menor_igual = (a <= b)  # False\n",
    "print(f\"Menor ou igual a: {menor_igual}\")\n",
    "\n",
    "# Operadores lógicos\n",
    "x = True\n",
    "y = False\n",
    "\n",
    "# E lógico (and)\n",
    "e_logico = x and y  # False\n",
    "print(f\"E lógico (and): {e_logico}\")\n",
    "\n",
    "# Ou lógico (or)\n",
    "ou_logico = x or y  # True\n",
    "print(f\"Ou lógico (or): {ou_logico}\")\n",
    "\n",
    "# Negação lógica (not)\n",
    "negacao_logica = not x  # False\n",
    "print(f\"Negação lógica (not): {negacao_logica}\")"
   ]
  },
  {
   "cell_type": "markdown",
   "metadata": {},
   "source": [
    "### Tipos de dados"
   ]
  },
  {
   "cell_type": "code",
   "execution_count": 3,
   "metadata": {},
   "outputs": [
    {
     "name": "stdout",
     "output_type": "stream",
     "text": [
      "Tipo de dado de 10: <class 'int'>\n",
      "Tipo de dado de 10.5: <class 'float'>\n",
      "Tipo de dado de 'Olá, Mundo!': <class 'str'>\n",
      "Tipo de dado de True: <class 'bool'>\n",
      "Tipo de dado de [1, 2, 3, 4, 5]: <class 'list'>\n",
      "Tipo de dado de (1, 2, 3, 4, 5): <class 'tuple'>\n",
      "Tipo de dado de {1, 2, 3, 4, 5}: <class 'set'>\n",
      "Tipo de dado de {'nome': 'Nuno Vivas', 'idade': 49}: <class 'dict'>\n"
     ]
    }
   ],
   "source": [
    "# Tipos de dados em Python\n",
    "\n",
    "# Inteiro\n",
    "inteiro = 10\n",
    "print(f\"Tipo de dado de {inteiro}: {type(inteiro)}\")\n",
    "\n",
    "# Float\n",
    "flutuante = 10.5\n",
    "print(f\"Tipo de dado de {flutuante}: {type(flutuante)}\")\n",
    "\n",
    "# String\n",
    "texto = \"Olá, Mundo!\"\n",
    "print(f\"Tipo de dado de '{texto}': {type(texto)}\")\n",
    "\n",
    "# Booleano\n",
    "booleano = True\n",
    "print(f\"Tipo de dado de {booleano}: {type(booleano)}\")\n",
    "\n",
    "# Lista\n",
    "lista = [1, 2, 3, 4, 5]\n",
    "print(f\"Tipo de dado de {lista}: {type(lista)}\")\n",
    "\n",
    "# Tupla\n",
    "tupla = (1, 2, 3, 4, 5)\n",
    "print(f\"Tipo de dado de {tupla}: {type(tupla)}\")\n",
    "\n",
    "# Conjunto\n",
    "conjunto = {1, 2, 3, 4, 5}\n",
    "print(f\"Tipo de dado de {conjunto}: {type(conjunto)}\")\n",
    "\n",
    "# Dicionário\n",
    "dicionario = {\"nome\": \"Nuno Vivas\", \"idade\": 49}\n",
    "print(f\"Tipo de dado de {dicionario}: {type(dicionario)}\")"
   ]
  },
  {
   "cell_type": "markdown",
   "metadata": {},
   "source": [
    "### Aquisição de dados\n",
    "\n",
    "Neste capitulo, analisámos as váriadissimas formas que temos de \"ligar\" os pNotebooks a dados. Entre eles, mas de forma não exclusiva:\n",
    "* Ficheiros CSV\n",
    "* Ficheiros EXCEL\n",
    "* Ficheiros JSON\n",
    "* _Web Scraping_\n",
    "* Aceder a APIs online\n",
    "* Bases de Dados\n",
    "\n",
    "Evidentemente que tudo existem muitissimas mais maneiras de chegarmos a dados com o python. São estas, no entanto, as principais e foram estas que explorámos. De uma forma geral, a ideia, é importarmos estes dados para um dataframe e trabalhá-los a nivel de:\n",
    "* limpeza de dados;\n",
    "* formato;\n",
    "* validação;\n",
    "\n",
    "Para depois os podermos usar em pleno com as funcionalidades que os pNotebooks nos oferecem.\n",
    "Neste trabalho vamos usar a função readcsv do pandas para lêr diretamente para um dataframe.\n",
    "\n"
   ]
  },
  {
   "cell_type": "code",
   "execution_count": null,
   "metadata": {},
   "outputs": [],
   "source": [
    "import pandas as pd\n",
    "\n",
    "# Read CSV file into DataFrame\n",
    "df = pd.read_csv('path/to/your/file.csv')\n",
    "\n",
    "# Display the first few rows of the DataFrame\n",
    "print(df.head())"
   ]
  },
  {
   "cell_type": "code",
   "execution_count": null,
   "metadata": {},
   "outputs": [],
   "source": []
  },
  {
   "cell_type": "markdown",
   "metadata": {},
   "source": [
    "### qualquer coisa 2"
   ]
  }
 ],
 "metadata": {
  "kernelspec": {
   "display_name": "base",
   "language": "python",
   "name": "python3"
  },
  "language_info": {
   "codemirror_mode": {
    "name": "ipython",
    "version": 3
   },
   "file_extension": ".py",
   "mimetype": "text/x-python",
   "name": "python",
   "nbconvert_exporter": "python",
   "pygments_lexer": "ipython3",
   "version": "3.11.5"
  }
 },
 "nbformat": 4,
 "nbformat_minor": 2
}
