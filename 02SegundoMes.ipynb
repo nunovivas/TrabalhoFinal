{
 "cells": [
  {
   "cell_type": "markdown",
   "metadata": {},
   "source": [
    " # Limpeza de dados\n",
    " \n",
    "A limpeza de dados é uma etapa essencial no processamento de datasets em Python. Muitas vezes, os dados brutos contêm valores ausentes, duplicados ou erros, que podem comprometer a análise e os resultados. Para resolver estes problemas, bibliotecas como Pandas são amplamente utilizadas.\n",
    "## Ações para Limpeza de Dados\n",
    "\n",
    "1. **Remover valores ausentes (missing values):**  \n",
    "   - Eliminar linhas ou colunas com valores nulos (`dropna()` no Pandas).  \n",
    "   - Substituir valores ausentes por média, mediana, moda ou um valor fixo (`fillna()`).  \n",
    "\n",
    "2. **Corrigir valores inconsistentes:**  \n",
    "   - Uniformizar o formato de dados (e.g., datas no mesmo padrão).  \n",
    "   - Corrigir erros ortográficos ou diferenças de nomenclatura em categorias (e.g., \"Lisboa\" vs. \"lisboa\").  \n",
    "\n",
    "3. **Eliminar duplicados:**  \n",
    "   - Identificar e remover linhas duplicadas no dataset (`drop_duplicates()`).  \n",
    "\n",
    "4. **Verificar e ajustar tipos de dados:**  \n",
    "   - Garantir que os tipos de dados estão corretos (e.g., números como `int` ou `float`, datas como `datetime`).  \n",
    "\n",
    "5. **Remover ou tratar outliers:**  \n",
    "   - Identificar valores extremos com métodos estatísticos (e.g., Z-score ou IQR) e decidir se devem ser mantidos, ajustados ou removidos.  \n",
    "\n",
    "6. **Normalizar e padronizar dados:**  \n",
    "   - Escalar valores para um intervalo comum (e.g., entre 0 e 1).  \n",
    "   - Padronizar com média e desvio padrão (Z-score normalization).  \n",
    "\n",
    "7. **Renomear colunas ou reorganizar dados:**  \n",
    "   - Usar nomes claros e consistentes para colunas (`rename()`).  \n",
    "\n",
    "8. **Tratar dados categóricos:**  \n",
    "   - Converter categorias em variáveis dummy (`get_dummies()`).  \n",
    "\n",
    "9. **Remover colunas irrelevantes:**  \n",
    "   - Eliminar colunas que não sejam úteis para a análise.  \n",
    "\n",
    "10. **Verificar integridade dos dados:**  \n",
    "    - Garantir que valores correspondem às regras esperadas (e.g., valores positivos para preços).  \n",
    "\n",
    "\n",
    "Exemplo de um deles:"
   ]
  },
  {
   "cell_type": "code",
   "execution_count": null,
   "metadata": {},
   "outputs": [],
   "source": [
    "import pandas as pd\n",
    "\n",
    "df = pd.read_csv(\"exemploqualquer.csv\")\n",
    "df = df.dropna()  # Remove linhas com valores nulos\n",
    "df[\"coluna\"].fillna(0, inplace=True)  # Substitui nulos por 0 numa coluna específica\n"
   ]
  },
  {
   "cell_type": "markdown",
   "metadata": {},
   "source": [
    "# Hierarquias\n",
    "\n",
    "Os índices hierárquicos em DataFrames do Pandas, também conhecidos como MultiIndex, permitem organizar os dados em múltiplos níveis, criando uma estrutura mais flexível para análise. Esta funcionalidade é especialmente útil em cenários onde os dados possuem uma relação hierárquica natural, como agrupamentos por categorias, anos ou localizações.\n",
    "\n",
    "Por exemplo, num dataset com informações sobre vendas, pode-se criar um índice hierárquico que agrupe os dados por produto e ano. Isso facilita operações como filtragem, agregação ou comparação dentro de grupos específicos.\n",
    "\n",
    "Para criar um MultiIndex, utiliza-se o método set_index(), especificando as colunas que devem compor os níveis do índice. A navegação nos dados hierárquicos pode ser feita com o método loc[], permitindo acesso rápido e intuitivo aos valores de interesse.\n",
    "\n",
    "A hierarquia não só melhora a organização, mas também otimiza cálculos e manipulação de dados complexos, tornando-a uma ferramenta poderosa para análise de dados em Python. No entanto, é importante planejar os níveis do índice com cuidado, para evitar estruturas desnecessariamente complicadas ou redundantes. O Professor expandiu mais este tema, mas no fundo acaba por ser uma redução interessante dos dados de modo a que se possam mostrar dados com facilidade num Jupiter Notebook."
   ]
  },
  {
   "cell_type": "code",
   "execution_count": 1,
   "metadata": {},
   "outputs": [
    {
     "name": "stdout",
     "output_type": "stream",
     "text": [
      "              Vendas\n",
      "Produto Ano         \n",
      "Maçã    2023     100\n",
      "        2024     120\n",
      "Laranja 2023      80\n",
      "        2024      90\n",
      "\n",
      "Vendas de Maçã em 2023:\n",
      "Vendas    100\n",
      "Name: (Maçã, 2023), dtype: int64\n"
     ]
    },
    {
     "name": "stderr",
     "output_type": "stream",
     "text": [
      "/Users/nunovivas/anaconda3/lib/python3.11/site-packages/pandas/core/arrays/masked.py:60: UserWarning: Pandas requires version '1.3.6' or newer of 'bottleneck' (version '1.3.5' currently installed).\n",
      "  from pandas.core import (\n"
     ]
    }
   ],
   "source": [
    "import pandas as pd\n",
    "\n",
    "# Dados fictícios\n",
    "dados = {\n",
    "    'Produto': ['Maçã', 'Maçã', 'Laranja', 'Laranja'],\n",
    "    'Ano': [2023, 2024, 2023, 2024],\n",
    "    'Vendas': [100, 120, 80, 90]\n",
    "}\n",
    "\n",
    "# Criação do DataFrame\n",
    "df = pd.DataFrame(dados)\n",
    "\n",
    "# Criar um índice hierárquico (MultiIndex)\n",
    "df = df.set_index(['Produto', 'Ano'])\n",
    "\n",
    "# Exibir o DataFrame\n",
    "print(df)\n",
    "\n",
    "# Acessar dados específicos com MultiIndex\n",
    "print(\"\\nVendas de Maçã em 2023:\")\n",
    "print(df.loc[('Maçã', 2023)])\n"
   ]
  },
  {
   "cell_type": "markdown",
   "metadata": {},
   "source": [
    "## Combinar e juntar Datasets\n",
    "\n",
    "Esta foi a \"base\" do meu trabalho. Muito a ver com a maneira que estou habituado a olhar para dados (de bases de dados), pareceu-me a abordagem mais natural para alguém como eu. A normalização inerente às BDs relacionais torna dificil para alguém como eu visualizar dados que não estejam já bem formatados. Tive algumas dificuldades nesse aspecto. Seria interessante abordar estes temas em cima de BDs não relacionais, do tipo documentais, como o Mongo.\n",
    "\n",
    "A minha abordagem foi portanto, esta:\n",
    "-> importar dados -> normalizar (limpar, alterar, melhorar) -> juntar -> repeat\n",
    "\n",
    "Fazendo isto até ter o resultado final."
   ]
  },
  {
   "cell_type": "markdown",
   "metadata": {},
   "source": [
    "## Séries temporais\n",
    "\n",
    "\n",
    "Não foram usadas séries temporais neste trabalho pois não se aplicavam aos dados explorados."
   ]
  }
 ],
 "metadata": {
  "kernelspec": {
   "display_name": "base",
   "language": "python",
   "name": "python3"
  },
  "language_info": {
   "codemirror_mode": {
    "name": "ipython",
    "version": 3
   },
   "file_extension": ".py",
   "mimetype": "text/x-python",
   "name": "python",
   "nbconvert_exporter": "python",
   "pygments_lexer": "ipython3",
   "version": "3.11.5"
  }
 },
 "nbformat": 4,
 "nbformat_minor": 2
}
