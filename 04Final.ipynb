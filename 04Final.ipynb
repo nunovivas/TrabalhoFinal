{
 "cells": [
  {
   "cell_type": "markdown",
   "metadata": {},
   "source": [
    "## Primeiro tratamento de dados\n",
    "\n",
    "Aqui carregam-se os dois primeiros datasets. O de Paises e depois o de coffee. O de Coffee não é o inicialmente proposto já que esse se revelou mau.\n",
    "Este também é limitado (tem a UE agrupada o que impede a analise de paises como o nosso) mas é muito mais assertivo."
   ]
  },
  {
   "cell_type": "code",
   "execution_count": 86,
   "metadata": {},
   "outputs": [],
   "source": [
    "import pandas as pd\n",
    "\n",
    "# Load the dataset into a DataFrame\n",
    "dfCountries = pd.read_csv('Dados/countries of the world.csv')\n",
    "\n",
    "# Display the first few rows of the DataFrame\n",
    "dfCountries.head()\n",
    "\n",
    "dfCoffee = pd.read_csv('Dados/psd_coffee.csv')\n",
    "dfCoffee.head()\n",
    "\n",
    "dfCoffee_grouped = dfCoffee[dfCoffee['Attribute_Description'] == 'Domestic Consumption'].groupby('Country_Name').sum()\n",
    "dfCoffee_avg = dfCoffee.groupby(['Country_Name', 'Attribute_Description'])['Value'].mean().reset_index()\n",
    "dfCoffee_filtered = dfCoffee_avg[dfCoffee_avg['Attribute_Description'] == 'Domestic Consumption']\n",
    "dfCoffee_filtered.head()\n",
    "dfCoffee_filtered.to_csv('DadosTratados/CoffeeTreated.csv', index=False)"
   ]
  },
  {
   "cell_type": "code",
   "execution_count": null,
   "metadata": {},
   "outputs": [],
   "source": []
  },
  {
   "cell_type": "code",
   "execution_count": null,
   "metadata": {},
   "outputs": [],
   "source": [
    "\n",
    "dfCoffee = pd.read_csv('Dados/worldwide_coffee_habits.csv')\n",
    "dfCoffee.head()"
   ]
  },
  {
   "cell_type": "code",
   "execution_count": 36,
   "metadata": {},
   "outputs": [],
   "source": [
    "#"
   ]
  }
 ],
 "metadata": {
  "kernelspec": {
   "display_name": "base",
   "language": "python",
   "name": "python3"
  },
  "language_info": {
   "codemirror_mode": {
    "name": "ipython",
    "version": 3
   },
   "file_extension": ".py",
   "mimetype": "text/x-python",
   "name": "python",
   "nbconvert_exporter": "python",
   "pygments_lexer": "ipython3",
   "version": "3.11.5"
  }
 },
 "nbformat": 4,
 "nbformat_minor": 2
}
