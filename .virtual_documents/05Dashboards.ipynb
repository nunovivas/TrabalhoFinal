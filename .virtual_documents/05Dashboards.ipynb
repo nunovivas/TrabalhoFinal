


import pandas as pd
import numpy as np

import matplotlib.pyplot as plt
import seaborn as sns

import panel as pn
import panel.widgets as pnw

pn.extension('tabulator')    # Necessário para utilizar o widget Tabulator

# read the dataframe from csv file 
df = pd.read_csv('DadosTratados/dfDashboards.csv')
df.head








style = {
    'background': '#f9f9f9',
    'border-radius': '5px',
    'border': '2px solid black',
    'padding': '5px',
    'box-shadow': '5px 5px 5px #bcbcbc',
    'margin': "10px",
}






# add a slider widget that is based on happinness score
widget_score = pnw.IntSlider(name='Choose date interval',
                            start=int(df['Score'].min()),
                            end=int(df['Score'].max()),
                            value=int(df['Score'].min()),
                            step=1,
                            )
                        
widget_country = pnw.CheckBoxGroup(name='Select the status',
                                  options=sorted(df['Country_Name'].dropna().unique().tolist()),
                                  #value=df['status'].dropna().unique().tolist(),
                                  inline=True,
                                 )

widget_region = pnw.CheckBoxGroup(name='Select the type',
                                options=sorted(df['Region'].dropna().unique().tolist()),
                                #value=df['type'].dropna().unique().tolist(),
                                inline=True,
                               )
#define a function to filter the dataframe based on the slider value
def filter_score(df, filter_value):
    return df[df['Score'] == filter_value]

def filter_country(df, filter_value):
    if not filter_value:
        return df[df['Country_Name'].isna()]
    return df[df['Country_Name'].isin(filter_value)]

def filter_region(df, filter_value):
    if not filter_value:
        return df[df['Region'].isna()]
    return df[df['Region'].isin(filter_value)]
    
widget_dataframe = pnw.Tabulator(df, 
                                 name='Dataset', 
                                 show_index=False,
                                 disabled=True,
                                )
widget_dataframe.add_filter(pn.bind(filter_score, filter_value=widget_score))
widget_dataframe.add_filter(pn.bind(filter_country, filter_value=widget_country))
widget_dataframe.add_filter(pn.bind(filter_region, filter_value=widget_region))

dataframe = pn.Column(
    pn.Row(widget_score, 
           pn.Column(
               pn.Row(pn.pane.Str('Paises'), widget_country),
               pn.Row(pn.pane.Str('Regiões'), widget_region)
           )
          ),
    widget_dataframe,
    styles=style
)





main = pn.Column(
                 dataframe
                )

template = pn.template.MaterialTemplate(header_background='#1f77b4',
                                        title='Roller Coaster Demo',
                                        main=[main])

template.servable();



